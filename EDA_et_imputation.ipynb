{
 "cells": [
  {
   "cell_type": "code",
   "execution_count": null,
   "metadata": {},
   "outputs": [],
   "source": [
    "from IPython.display import Markdown as md\n",
    "import re\n",
    "import pandas as pd\n",
    "import numpy as np\n",
    "\n",
    "import sklearn as sk\n",
    "import sklearn.decomposition as dcp\n",
    "import sklearn.preprocessing as pp\n",
    "import sklearn.impute as imp\n",
    "\n",
    "import plotly.graph_objects as go\n",
    "import plotly.express as px\n",
    "import plotly.figure_factory as ff\n",
    "import plotly.subplots as splt"
   ]
  }
 ],
 "metadata": {
  "kernelspec": {
   "display_name": "env-python-scoring",
   "language": "python",
   "name": "python3"
  },
  "language_info": {
   "name": "python",
   "version": "3.10.6 (main, Nov 14 2022, 16:10:14) [GCC 11.3.0]"
  },
  "orig_nbformat": 4,
  "vscode": {
   "interpreter": {
    "hash": "c4ec2282a0c7f79b6d4a570d536ac412a68ccdb7601af4785bb67de8aea2fa62"
   }
  }
 },
 "nbformat": 4,
 "nbformat_minor": 2
}
